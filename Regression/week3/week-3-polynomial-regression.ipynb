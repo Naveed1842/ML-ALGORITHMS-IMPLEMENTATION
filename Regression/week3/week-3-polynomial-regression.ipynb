{
 "cells": [
  {
   "cell_type": "code",
   "execution_count": 9,
   "metadata": {
    "collapsed": true
   },
   "outputs": [],
   "source": [
    "import csv\n",
    "import pandas as pd\n",
    "import numpy as np\n",
    "import matplotlib.pyplot as plt\n",
    "import math\n",
    "from sklearn import linear_model"
   ]
  },
  {
   "cell_type": "code",
   "execution_count": 16,
   "metadata": {
    "collapsed": true
   },
   "outputs": [],
   "source": [
    "def polynomial_dataframe(feature, degree): # feature is pandas.Series type\n",
    "    # assume that degree >= 1\n",
    "    # initialize the dataframe:\n",
    "    poly_dataframe = pd.DataFrame()\n",
    "    # and set poly_dataframe['power_1'] equal to the passed feature\n",
    "    poly_dataframe['power_1'] = feature\n",
    "    # first check if degree > 1\n",
    "    if degree > 1:\n",
    "        # then loop over the remaining degrees:\n",
    "        for power in range(2, degree+1):\n",
    "            # first we'll give the column a name:\n",
    "            name = 'power_' + str(power)\n",
    "            previous_name = 'power_' + str(power-1)\n",
    "            # assign poly_dataframe[name] to be feature^power; use apply(*)\n",
    "            poly_dataframe[name] = poly_dataframe[previous_name]*poly_dataframe['power_1']\n",
    "    return poly_dataframe"
   ]
  },
  {
   "cell_type": "code",
   "execution_count": 17,
   "metadata": {
    "collapsed": false
   },
   "outputs": [
    {
     "name": "stderr",
     "output_type": "stream",
     "text": [
      "C:\\Users\\Dejucoder\\Miniconda3\\lib\\site-packages\\ipykernel\\__main__.py:2: FutureWarning: sort(columns=....) is deprecated, use sort_values(by=.....)\n",
      "  from ipykernel import kernelapp as app\n"
     ]
    }
   ],
   "source": [
    "sales = pd.read_csv('kc_house_data.csv')\n",
    "sales = sales.sort(['sqft_living','price'])"
   ]
  },
  {
   "cell_type": "code",
   "execution_count": 29,
   "metadata": {
    "collapsed": true
   },
   "outputs": [],
   "source": [
    "poly1_data = polynomial_dataframe(sales['sqft_living'], 1)\n",
    "poly1_data['price'] = sales['price']"
   ]
  },
  {
   "cell_type": "code",
   "execution_count": 31,
   "metadata": {
    "collapsed": false
   },
   "outputs": [
    {
     "data": {
      "text/plain": [
       "LinearRegression(copy_X=True, fit_intercept=True, n_jobs=1, normalize=False)"
      ]
     },
     "execution_count": 31,
     "metadata": {},
     "output_type": "execute_result"
    }
   ],
   "source": [
    "model1 = linear_model.LinearRegression()\n",
    "model1.fit(poly1_data[['power_1']] , poly1_data['price'])"
   ]
  },
  {
   "cell_type": "code",
   "execution_count": 32,
   "metadata": {
    "collapsed": false
   },
   "outputs": [],
   "source": [
    "plt.scatter(poly1_data['power_1'],poly1_data['price'])\n",
    "plt.plot(poly1_data['power_1'] , model1.predict(poly1_data[['power_1']]))\n",
    "plt.show()"
   ]
  },
  {
   "cell_type": "code",
   "execution_count": 34,
   "metadata": {
    "collapsed": false
   },
   "outputs": [],
   "source": [
    "poly2_data = polynomial_dataframe(sales['sqft_living'], 2)\n",
    "poly2_data['price'] = sales['price']\n",
    "model2 = linear_model.LinearRegression()\n",
    "model2.fit(poly2_data[['power_1','power_2']] , poly2_data['price'])\n",
    "plt.scatter(poly2_data['power_1'],poly2_data['price'])\n",
    "plt.plot(poly2_data['power_1'] , model2.predict(poly2_data[['power_1','power_2']]))\n",
    "plt.show()"
   ]
  },
  {
   "cell_type": "code",
   "execution_count": 36,
   "metadata": {
    "collapsed": false
   },
   "outputs": [],
   "source": [
    "l = ['power_1','power_2','power_3','power_4','power_5','power_6','power_7','power_8','power_9','power_10','power_11','power_12','power_13','power_14','power_15']\n",
    "poly15_data = polynomial_dataframe(sales['sqft_living'], 15)\n",
    "poly15_data['price'] = sales['price']\n",
    "model15 = linear_model.LinearRegression()\n",
    "model15.fit(poly15_data[l] , poly15_data['price'])\n",
    "plt.scatter(poly15_data['power_1'],poly15_data['price'])\n",
    "plt.plot(poly15_data['power_1'] , model15.predict(poly15_data[l]))\n",
    "plt.show()"
   ]
  },
  {
   "cell_type": "code",
   "execution_count": 37,
   "metadata": {
    "collapsed": true
   },
   "outputs": [],
   "source": [
    "set_1 = pd.read_csv('wk3_kc_house_set_1_data.csv')\n",
    "set_2 = pd.read_csv('wk3_kc_house_set_2_data.csv')\n",
    "set_3 = pd.read_csv('wk3_kc_house_set_3_data.csv')\n",
    "set_4 = pd.read_csv('wk3_kc_house_set_4_data.csv')"
   ]
  },
  {
   "cell_type": "code",
   "execution_count": 46,
   "metadata": {
    "collapsed": false
   },
   "outputs": [
    {
     "data": {
      "text/plain": [
       "array([  1.76406399e-05,   4.45333757e-02,   4.13849787e-06,\n",
       "        -4.48147185e-10,  -2.26282860e-14,   1.01081727e-16,\n",
       "        -7.24309809e-16,   2.86983005e-16,  -1.74329860e-16,\n",
       "        -1.27118543e-15,   1.16875637e-16,   5.53624437e-16,\n",
       "         1.98532723e-16,  -3.19799824e-16,  -3.84117144e-16])"
      ]
     },
     "execution_count": 46,
     "metadata": {},
     "output_type": "execute_result"
    }
   ],
   "source": [
    "#SET 1\n",
    "l = ['power_1','power_2','power_3','power_4','power_5','power_6','power_7','power_8','power_9','power_10','power_11','power_12','power_13','power_14','power_15']\n",
    "poly15_data = polynomial_dataframe(set_1['sqft_living'], 15)\n",
    "poly15_data['price'] = set_1['price']\n",
    "model15 = linear_model.LinearRegression()\n",
    "model15.fit(poly15_data[l] , poly15_data['price'])\n",
    "plt.scatter(poly15_data['power_1'],poly15_data['price'])\n",
    "plt.plot(poly15_data['power_1'] , model15.predict(poly15_data[l]))\n",
    "plt.show()\n",
    "model15.coef_"
   ]
  },
  {
   "cell_type": "code",
   "execution_count": 47,
   "metadata": {
    "collapsed": false
   },
   "outputs": [
    {
     "data": {
      "text/plain": [
       "array([  3.00887122e-05,   6.13527083e-02,  -2.50166625e-06,\n",
       "         1.10934186e-10,  -1.76936161e-14,   8.00549083e-16,\n",
       "        -3.62863067e-16,  -3.03139972e-16,  -6.11465644e-16,\n",
       "         3.72088850e-16,   7.10876405e-16,   7.73061133e-16,\n",
       "         1.03734364e-15,  -4.76399540e-16,   1.34602300e-15])"
      ]
     },
     "execution_count": 47,
     "metadata": {},
     "output_type": "execute_result"
    }
   ],
   "source": [
    "#SET 2\n",
    "l = ['power_1','power_2','power_3','power_4','power_5','power_6','power_7','power_8','power_9','power_10','power_11','power_12','power_13','power_14','power_15']\n",
    "poly15_data = polynomial_dataframe(set_2['sqft_living'], 15)\n",
    "poly15_data['price'] = set_2['price']\n",
    "model15 = linear_model.LinearRegression()\n",
    "model15.fit(poly15_data[l] , poly15_data['price'])\n",
    "plt.scatter(poly15_data['power_1'],poly15_data['price'])\n",
    "plt.plot(poly15_data['power_1'] , model15.predict(poly15_data[l]))\n",
    "plt.show()\n",
    "model15.coef_"
   ]
  },
  {
   "cell_type": "code",
   "execution_count": 48,
   "metadata": {
    "collapsed": false
   },
   "outputs": [
    {
     "data": {
      "text/plain": [
       "array([  3.05361076e-05,   6.76638174e-02,  -5.32878619e-06,\n",
       "         4.59965794e-10,  -1.31916227e-14,  -1.53508100e-16,\n",
       "        -3.52183027e-16,   5.71978479e-16,   4.35381696e-16,\n",
       "         5.29539474e-16,  -2.22894208e-16,   1.12007909e-15,\n",
       "         6.01719848e-16,   3.26682930e-16,  -2.48656137e-16])"
      ]
     },
     "execution_count": 48,
     "metadata": {},
     "output_type": "execute_result"
    }
   ],
   "source": [
    "#SET 3\n",
    "l = ['power_1','power_2','power_3','power_4','power_5','power_6','power_7','power_8','power_9','power_10','power_11','power_12','power_13','power_14','power_15']\n",
    "poly15_data = polynomial_dataframe(set_3['sqft_living'], 15)\n",
    "poly15_data['price'] = set_3['price']\n",
    "model15 = linear_model.LinearRegression()\n",
    "model15.fit(poly15_data[l] , poly15_data['price'])\n",
    "plt.scatter(poly15_data['power_1'],poly15_data['price'])\n",
    "plt.plot(poly15_data['power_1'] , model15.predict(poly15_data[l]))\n",
    "plt.show()\n",
    "model15.coef_"
   ]
  },
  {
   "cell_type": "code",
   "execution_count": 49,
   "metadata": {
    "collapsed": false
   },
   "outputs": [
    {
     "data": {
      "text/plain": [
       "array([  2.93118439e-05,   5.47886719e-02,  -1.44597326e-06,\n",
       "         7.43466678e-11,   3.46579476e-14,  -1.23517408e-15,\n",
       "        -4.06166035e-16,   8.99235660e-16,  -4.91634692e-16,\n",
       "        -5.41357731e-16,   2.78692453e-16,   3.96326115e-16,\n",
       "         2.88541057e-16,  -1.03623740e-15,  -3.32596167e-16])"
      ]
     },
     "execution_count": 49,
     "metadata": {},
     "output_type": "execute_result"
    }
   ],
   "source": [
    "#SET 4\n",
    "l = ['power_1','power_2','power_3','power_4','power_5','power_6','power_7','power_8','power_9','power_10','power_11','power_12','power_13','power_14','power_15']\n",
    "poly15_data = polynomial_dataframe(set_4['sqft_living'], 15)\n",
    "poly15_data['price'] = set_4['price']\n",
    "model15 = linear_model.LinearRegression()\n",
    "model15.fit(poly15_data[l] , poly15_data['price'])\n",
    "plt.scatter(poly15_data['power_1'],poly15_data['price'])\n",
    "plt.plot(poly15_data['power_1'] , model15.predict(poly15_data[l]))\n",
    "plt.show()\n",
    "model15.coef_"
   ]
  },
  {
   "cell_type": "code",
   "execution_count": 51,
   "metadata": {
    "collapsed": false
   },
   "outputs": [],
   "source": [
    "train_data = pd.read_csv('wk3_kc_house_train_data.csv')\n",
    "cv_data = pd.read_csv('wk3_kc_house_valid_data.csv')\n",
    "test_data = pd.read_csv('wk3_kc_house_test_data.csv')"
   ]
  },
  {
   "cell_type": "code",
   "execution_count": 60,
   "metadata": {
    "collapsed": false
   },
   "outputs": [
    {
     "name": "stdout",
     "output_type": "stream",
     "text": [
      "[629097886299587.5, 623955062706519.0, 625820280251626.38, 629987338893925.13, 623376391568332.5, 623259997611469.63, 623154755574664.25, 623383991540182.25, 623342662556829.75, 623337345463238.38, 623592184944468.75, 623362156304389.88, 623353409828896.63, 623280835820432.88, 623365679974166.63]\n"
     ]
    }
   ],
   "source": [
    "l = []\n",
    "RSS=[]\n",
    "for degree in range(1,16) :\n",
    "    name = 'power_' + str(degree)\n",
    "    l.append(name)\n",
    "    poly_data = polynomial_dataframe(train_data['sqft_living'], degree)\n",
    "    poly_data['price'] = train_data['price']\n",
    "    poly_data_cv = polynomial_dataframe(cv_data['sqft_living'], degree)\n",
    "    poly_data_cv['price'] = cv_data['price']\n",
    "    poly_data_test = polynomial_dataframe(test_data['sqft_living'], degree)\n",
    "    poly_data_test['price'] = test_data['price']\n",
    "    \n",
    "    model = linear_model.LinearRegression()\n",
    "    model.fit(poly_data[l] , poly_data['price'])\n",
    "    predictions = model.predict(poly_data_cv[l])\n",
    "    error = predictions - poly_data_cv['price']\n",
    "    RSS.append(sum(error*error))\n",
    "print(RSS)"
   ]
  },
  {
   "cell_type": "code",
   "execution_count": 62,
   "metadata": {
    "collapsed": false
   },
   "outputs": [
    {
     "name": "stdout",
     "output_type": "stream",
     "text": [
      "1.367677461e+14\n"
     ]
    }
   ],
   "source": [
    "poly_data = polynomial_dataframe(train_data['sqft_living'], 6)\n",
    "poly_data['price'] = train_data['price']\n",
    "poly_data_cv = polynomial_dataframe(cv_data['sqft_living'], 6)\n",
    "poly_data_cv['price'] = cv_data['price']\n",
    "poly_data_test = polynomial_dataframe(test_data['sqft_living'], 6)\n",
    "poly_data_test['price'] = test_data['price']\n",
    "l=['power_1','power_2','power_3','power_4','power_5','power_6']   \n",
    "model = linear_model.LinearRegression()\n",
    "model.fit(poly_data[l] , poly_data['price'])\n",
    "predictions = model.predict(poly_data_test[l])\n",
    "error = predictions - poly_data_test['price']\n",
    "print(sum(error*error))"
   ]
  },
  {
   "cell_type": "code",
   "execution_count": null,
   "metadata": {
    "collapsed": true
   },
   "outputs": [],
   "source": []
  }
 ],
 "metadata": {
  "kernelspec": {
   "display_name": "Python 3",
   "language": "python",
   "name": "python3"
  },
  "language_info": {
   "codemirror_mode": {
    "name": "ipython",
    "version": 3
   },
   "file_extension": ".py",
   "mimetype": "text/x-python",
   "name": "python",
   "nbconvert_exporter": "python",
   "pygments_lexer": "ipython3",
   "version": "3.5.0"
  }
 },
 "nbformat": 4,
 "nbformat_minor": 0
}
