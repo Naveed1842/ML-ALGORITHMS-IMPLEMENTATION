{
 "cells": [
  {
   "cell_type": "code",
   "execution_count": 1,
   "metadata": {
    "collapsed": true
   },
   "outputs": [],
   "source": [
    "import csv\n",
    "import pandas as pd\n",
    "import numpy as np\n",
    "import matplotlib.pyplot as plt\n",
    "import math\n",
    "from sklearn import linear_model"
   ]
  },
  {
   "cell_type": "code",
   "execution_count": 2,
   "metadata": {
    "collapsed": true
   },
   "outputs": [],
   "source": [
    "def polynomial_dataframe(feature, degree): # feature is pandas.Series type\n",
    "    # assume that degree >= 1\n",
    "    # initialize the dataframe:\n",
    "    poly_dataframe = pd.DataFrame()\n",
    "    # and set poly_dataframe['power_1'] equal to the passed feature\n",
    "    poly_dataframe['power_1'] = feature\n",
    "    # first check if degree > 1\n",
    "    if degree > 1:\n",
    "        # then loop over the remaining degrees:\n",
    "        for power in range(2, degree+1):vc                  v\n",
    "            # first we'll give the column a name:\n",
    "            name = 'power_' + str(power)\n",
    "            previous_name = 'power_' + str(power-1)\n",
    "            # assign poly_dataframe[name] to be feature^power; use apply(*)\n",
    "            poly_dataframe[name] = poly_dataframe[previous_name]*poly_dataframe['power_1']\n",
    "    return poly_dataframe"
   ]
  },
  {
   "cell_type": "code",
   "execution_count": 3,
   "metadata": {
    "collapsed": false
   },
   "outputs": [
    {
     "name": "stderr",
     "output_type": "stream",
     "text": [
      "C:\\Users\\Dejucoder\\Miniconda3\\lib\\site-packages\\ipykernel\\__main__.py:6: FutureWarning: sort(columns=....) is deprecated, use sort_values(by=.....)\n"
     ]
    }
   ],
   "source": [
    "import pandas as pd\n",
    "\n",
    "dtype_dict = {'bathrooms':float, 'waterfront':int, 'sqft_above':int, 'sqft_living15':float, 'grade':int, 'yr_renovated':int, 'price':float, 'bedrooms':float, 'zipcode':str, 'long':float, 'sqft_lot15':float, 'sqft_living':float, 'floors':float, 'condition':int, 'lat':float, 'date':str, 'sqft_basement':int, 'yr_built':int, 'id':str, 'sqft_lot':int, 'view':int}\n",
    "\n",
    "sales = pd.read_csv('kc_house_data.csv', dtype=dtype_dict)\n",
    "sales = sales.sort(['sqft_living','price'])"
   ]
  },
  {
   "cell_type": "code",
   "execution_count": 4,
   "metadata": {
    "collapsed": true
   },
   "outputs": [],
   "source": [
    "l2_small_penalty = 1.5e-5"
   ]
  },
  {
   "cell_type": "code",
   "execution_count": 7,
   "metadata": {
    "collapsed": false
   },
   "outputs": [
    {
     "data": {
      "text/plain": [
       "array([  1.24873306e+02,  -4.77376011e-02,   3.01446238e-05,\n",
       "        -2.44419942e-09,  -1.94153675e-13,   8.54085686e-18,\n",
       "         1.51142121e-21,   8.27979094e-26,   6.52603100e-31,\n",
       "        -3.27895017e-34,  -3.87962315e-38,  -2.72437650e-42,\n",
       "        -1.07790800e-46,   3.78242694e-51,   1.39790296e-54])"
      ]
     },
     "execution_count": 7,
     "metadata": {},
     "output_type": "execute_result"
    }
   ],
   "source": [
    "poly15_data = polynomial_dataframe(sales['sqft_living'], 15) # use equivalent of `polynomial_sframe`\n",
    "model = linear_model.Ridge(alpha=l2_small_penalty, normalize=True)\n",
    "model.fit(poly15_data, sales['price'])\n",
    "model.coef_"
   ]
  },
  {
   "cell_type": "code",
   "execution_count": 8,
   "metadata": {
    "collapsed": true
   },
   "outputs": [],
   "source": [
    "set_1 = pd.read_csv('wk3_kc_house_set_1_data.csv', dtype=dtype_dict)\n",
    "set_2 = pd.read_csv('wk3_kc_house_set_2_data.csv', dtype=dtype_dict)\n",
    "set_3 = pd.read_csv('wk3_kc_house_set_3_data.csv', dtype=dtype_dict)\n",
    "set_4 = pd.read_csv('wk3_kc_house_set_4_data.csv', dtype=dtype_dict)"
   ]
  },
  {
   "cell_type": "code",
   "execution_count": 9,
   "metadata": {
    "collapsed": true
   },
   "outputs": [],
   "source": [
    "l2_small_penalty = 1e-9"
   ]
  },
  {
   "cell_type": "code",
   "execution_count": 10,
   "metadata": {
    "collapsed": false
   },
   "outputs": [
    {
     "data": {
      "text/plain": [
       "array([  5.44669414e+02,  -3.55447623e-01,   1.22446391e-04,\n",
       "        -1.17175343e-08,  -3.90512062e-13,  -1.39076372e-17,\n",
       "         1.47860262e-20,   6.87492108e-25,  -7.57203963e-29,\n",
       "        -1.04097309e-32,  -3.71844145e-37,   3.39989269e-41,\n",
       "         5.56592085e-45,   2.53761354e-49,  -3.35152908e-53])"
      ]
     },
     "execution_count": 10,
     "metadata": {},
     "output_type": "execute_result"
    }
   ],
   "source": [
    "#set 1\n",
    "poly15_data_set1 = polynomial_dataframe(set_1['sqft_living'], 15) # use equivalent of `polynomial_sframe`\n",
    "model_set1 = linear_model.Ridge(alpha=l2_small_penalty, normalize=True)\n",
    "model_set1.fit(poly15_data_set1, set_1['price'])\n",
    "model_set1.coef_"
   ]
  },
  {
   "cell_type": "code",
   "execution_count": 12,
   "metadata": {
    "collapsed": false
   },
   "outputs": [
    {
     "data": {
      "text/plain": [
       "array([  8.59362622e+02,  -8.18118239e-01,   4.28879955e-04,\n",
       "        -9.12770557e-08,  -2.69604593e-12,   3.73980308e-15,\n",
       "        -1.42711860e-19,  -6.30794712e-23,  -1.44559666e-27,\n",
       "         7.44321303e-31,   9.25866168e-35,   3.27972417e-41,\n",
       "        -1.29543486e-42,  -1.38781260e-46,   1.66546444e-50])"
      ]
     },
     "execution_count": 12,
     "metadata": {},
     "output_type": "execute_result"
    }
   ],
   "source": [
    "#set 2\n",
    "poly15_data_set2 = polynomial_dataframe(set_2['sqft_living'], 15) # use equivalent of `polynomial_sframe`\n",
    "model_set2 = linear_model.Ridge(alpha=l2_small_penalty, normalize=True)\n",
    "model_set2.fit(poly15_data_set2, set_2['price'])\n",
    "model_set2.coef_"
   ]
  },
  {
   "cell_type": "code",
   "execution_count": 13,
   "metadata": {
    "collapsed": false
   },
   "outputs": [
    {
     "data": {
      "text/plain": [
       "array([ -7.55395926e+02,   9.75579507e-01,  -4.58945996e-04,\n",
       "         7.77958131e-08,   7.15013236e-12,  -2.88601960e-15,\n",
       "        -2.13678198e-20,   3.38085265e-23,   2.19178098e-27,\n",
       "        -1.97067737e-31,  -4.15993064e-35,  -1.80196269e-39,\n",
       "         3.19071142e-43,   5.08456951e-47,  -3.93304268e-51])"
      ]
     },
     "execution_count": 13,
     "metadata": {},
     "output_type": "execute_result"
    }
   ],
   "source": [
    "#set 3\n",
    "poly15_data_set3 = polynomial_dataframe(set_3['sqft_living'], 15) # use equivalent of `polynomial_sframe`\n",
    "model_set3 = linear_model.Ridge(alpha=l2_small_penalty, normalize=True)\n",
    "model_set3.fit(poly15_data_set3, set_3['price'])\n",
    "model_set3.coef_"
   ]
  },
  {
   "cell_type": "code",
   "execution_count": 14,
   "metadata": {
    "collapsed": false
   },
   "outputs": [
    {
     "data": {
      "text/plain": [
       "array([  1.11944571e+03,  -9.83760201e-01,   3.38770888e-04,\n",
       "         3.60377230e-08,  -4.37814006e-11,   5.77191612e-15,\n",
       "         7.66795410e-19,  -9.49297933e-23,  -1.96030773e-26,\n",
       "        -2.10888286e-32,   3.31005081e-34,   3.47734014e-38,\n",
       "        -2.43039413e-42,  -8.79553278e-46,   6.44569716e-50])"
      ]
     },
     "execution_count": 14,
     "metadata": {},
     "output_type": "execute_result"
    }
   ],
   "source": [
    "#set 4\n",
    "poly15_data_set4 = polynomial_dataframe(set_4['sqft_living'], 15) # use equivalent of `polynomial_sframe`\n",
    "model_set4 = linear_model.Ridge(alpha=l2_small_penalty, normalize=True)\n",
    "model_set4.fit(poly15_data_set4, set_4['price'])\n",
    "model_set4.coef_"
   ]
  },
  {
   "cell_type": "code",
   "execution_count": 15,
   "metadata": {
    "collapsed": true
   },
   "outputs": [],
   "source": [
    "l2_large_penalty=1.23e2"
   ]
  },
  {
   "cell_type": "code",
   "execution_count": 16,
   "metadata": {
    "collapsed": false
   },
   "outputs": [
    {
     "data": {
      "text/plain": [
       "array([  2.32806803e+00,   3.53621608e-04,   3.31969692e-08,\n",
       "         2.00082477e-12,   1.11492559e-16,   6.57786122e-21,\n",
       "         4.12939525e-25,   2.70393755e-29,   1.81614763e-33,\n",
       "         1.23824277e-37,   8.51872481e-42,   5.89455598e-46,\n",
       "         4.09542560e-50,   2.85464889e-54,   1.99547476e-58])"
      ]
     },
     "execution_count": 16,
     "metadata": {},
     "output_type": "execute_result"
    }
   ],
   "source": [
    "#set 1\n",
    "model_set1_penalised = linear_model.Ridge(alpha=l2_large_penalty, normalize=True)\n",
    "model_set1_penalised.fit(poly15_data_set1, set_1['price'])\n",
    "model_set1_penalised.coef_"
   ]
  },
  {
   "cell_type": "code",
   "execution_count": 17,
   "metadata": {
    "collapsed": false
   },
   "outputs": [
    {
     "data": {
      "text/plain": [
       "array([  2.09756903e+00,   3.90817483e-04,   6.67189944e-08,\n",
       "         8.90002997e-12,   9.72639877e-16,   9.69733682e-20,\n",
       "         9.50564475e-24,   9.44491031e-28,   9.57191338e-32,\n",
       "         9.86945155e-36,   1.03101115e-39,   1.08729784e-43,\n",
       "         1.15453748e-47,   1.23211305e-51,   1.31986696e-55])"
      ]
     },
     "execution_count": 17,
     "metadata": {},
     "output_type": "execute_result"
    }
   ],
   "source": [
    "#set 2\n",
    "model_set2_penalised = linear_model.Ridge(alpha=l2_large_penalty, normalize=True)\n",
    "model_set2_penalised.fit(poly15_data_set2, set_2['price'])\n",
    "model_set2_penalised.coef_"
   ]
  },
  {
   "cell_type": "code",
   "execution_count": 18,
   "metadata": {
    "collapsed": false
   },
   "outputs": [
    {
     "data": {
      "text/plain": [
       "array([  2.28906258e+00,   4.12472190e-04,   6.08835345e-08,\n",
       "         6.58572163e-12,   6.15278155e-16,   5.64446634e-20,\n",
       "         5.28834396e-24,   5.07091402e-28,   4.94657273e-32,\n",
       "         4.88043809e-36,   4.85009106e-40,   4.84161534e-44,\n",
       "         4.84635021e-48,   4.85883628e-52,   4.87558469e-56])"
      ]
     },
     "execution_count": 18,
     "metadata": {},
     "output_type": "execute_result"
    }
   ],
   "source": [
    "#set 3\n",
    "model_set3_penalised = linear_model.Ridge(alpha=l2_large_penalty, normalize=True)\n",
    "model_set3_penalised.fit(poly15_data_set3, set_3['price'])\n",
    "model_set3_penalised.coef_"
   ]
  },
  {
   "cell_type": "code",
   "execution_count": 19,
   "metadata": {
    "collapsed": false
   },
   "outputs": [
    {
     "data": {
      "text/plain": [
       "array([  2.08596194e+00,   4.05035772e-04,   7.46864647e-08,\n",
       "         1.13096608e-11,   1.45864442e-15,   1.73561251e-19,\n",
       "         2.01609632e-23,   2.34605255e-27,   2.75636073e-31,\n",
       "         3.27043069e-35,   3.91046855e-39,   4.70118041e-43,\n",
       "         5.67212304e-47,   6.85958087e-51,   8.30843630e-55])"
      ]
     },
     "execution_count": 19,
     "metadata": {},
     "output_type": "execute_result"
    }
   ],
   "source": [
    "#set 4\n",
    "model_set4_penalised = linear_model.Ridge(alpha=l2_large_penalty, normalize=True)\n",
    "model_set4_penalised.fit(poly15_data_set4, set_4['price'])\n",
    "model_set4_penalised.coef_"
   ]
  },
  {
   "cell_type": "code",
   "execution_count": 20,
   "metadata": {
    "collapsed": true
   },
   "outputs": [],
   "source": [
    "train_valid_shuffled = pd.read_csv('wk3_kc_house_train_valid_shuffled.csv', dtype=dtype_dict)\n",
    "test = pd.read_csv('wk3_kc_house_test_data.csv', dtype=dtype_dict)"
   ]
  },
  {
   "cell_type": "code",
   "execution_count": 24,
   "metadata": {
    "collapsed": false
   },
   "outputs": [
    {
     "name": "stdout",
     "output_type": "stream",
     "text": [
      "0 (0, 1938)\n",
      "1 (1939, 3878)\n",
      "2 (3879, 5817)\n",
      "3 (5818, 7757)\n",
      "4 (7758, 9697)\n",
      "5 (9698, 11636)\n",
      "6 (11637, 13576)\n",
      "7 (13577, 15515)\n",
      "8 (15516, 17455)\n",
      "9 (17456, 19395)\n"
     ]
    }
   ],
   "source": [
    "n = len(train_valid_shuffled)\n",
    "k = 10 # 10-fold cross-validation\n",
    "\n",
    "for i in range(k):\n",
    "    start = (n*i)//k\n",
    "    end = (n*(i+1))//k-1\n",
    "    print (i, (start, end))"
   ]
  },
  {
   "cell_type": "code",
   "execution_count": 67,
   "metadata": {
    "collapsed": true
   },
   "outputs": [],
   "source": [
    "def k_fold_cross_validation(k, l2_penalty, data, output):\n",
    "    n , RSS= len(data), 0\n",
    "    for i in range(k) :\n",
    "        start, end = (n*i)//k, (n*(i+1))//k-1\n",
    "        cv_data = data[start:end+1]\n",
    "        cv_output = output[start:end+1]\n",
    "        if i==0 :\n",
    "            train_data = data[end+1:n]\n",
    "            train_output = output[end+1:n]\n",
    "        elif i==k-1 :\n",
    "            train_data = data[0:start]\n",
    "            train_output = output[0:start]\n",
    "        else :\n",
    "            train_data = data[0:start]\n",
    "            train_data.append(data[end+1:n])\n",
    "            train_output = output[0:start]\n",
    "            train_output.append(output[end+1:n])\n",
    "        model = linear_model.Ridge(alpha=l2_penalty, normalize=True)\n",
    "        model.fit(train_data,train_output)\n",
    "        predictions = model.predict(cv_data)\n",
    "        RSS += sum((predictions-cv_output)*(predictions-cv_output))\n",
    "    average_validation_error = RSS / n\n",
    "    return [average_validation_error]"
   ]
  },
  {
   "cell_type": "code",
   "execution_count": 68,
   "metadata": {
    "collapsed": false
   },
   "outputs": [
    {
     "name": "stdout",
     "output_type": "stream",
     "text": [
      "[136508762048.42165]\n",
      "[136871340111.74513]\n",
      "[137074672944.09927]\n",
      "[137148119920.92538]\n",
      "[137172269679.72435]\n",
      "[137179999170.17101]\n",
      "[137182452725.39919]\n",
      "[137183229535.54927]\n",
      "[137183475277.28296]\n",
      "[137183552996.92226]\n",
      "[137183577574.95813]\n",
      "[137183585347.30832]\n",
      "[137183587805.15057]\n"
     ]
    }
   ],
   "source": [
    "data = polynomial_dataframe(train_valid_shuffled['sqft_living'], 15)\n",
    "k=10\n",
    "for l2_penalty in np.logspace(3, 9, num=13) :\n",
    "    error = k_fold_cross_validation(k,l2_penalty,data[0:19392],train_valid_shuffled['price'])\n",
    "    print(error)"
   ]
  },
  {
   "cell_type": "code",
   "execution_count": 72,
   "metadata": {
    "collapsed": false
   },
   "outputs": [
    {
     "name": "stdout",
     "output_type": "stream",
     "text": [
      "1.32816787077e+14\n"
     ]
    }
   ],
   "source": [
    "final_model = linear_model.Ridge(alpha=1000.00, normalize=True)\n",
    "test_data = polynomial_dataframe(test['sqft_living'], 15)\n",
    "final_model.fit(data,train_valid_shuffled['price'])\n",
    "predictions = model.predict(test_data)\n",
    "RSS = sum((predictions-test['price'])*(predictions-test['price']))\n",
    "print(RSS)"
   ]
  },
  {
   "cell_type": "code",
   "execution_count": null,
   "metadata": {
    "collapsed": true
   },
   "outputs": [],
   "source": []
  }
 ],
 "metadata": {
  "kernelspec": {
   "display_name": "Python 3",
   "language": "python",
   "name": "python3"
  },
  "language_info": {
   "codemirror_mode": {
    "name": "ipython",
    "version": 3
   },
   "file_extension": ".py",
   "mimetype": "text/x-python",
   "name": "python",
   "nbconvert_exporter": "python",
   "pygments_lexer": "ipython3",
   "version": "3.5.0"
  }
 },
 "nbformat": 4,
 "nbformat_minor": 0
}
